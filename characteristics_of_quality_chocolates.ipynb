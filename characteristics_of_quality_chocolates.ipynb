{
 "cells": [
  {
   "cell_type": "markdown",
   "id": "831c2ccc-88fa-465a-8e16-147cfa445da3",
   "metadata": {},
   "source": [
    "# Qualities of The Chocolate Bars\n",
    "Gourmet chocolates are high-quality chocolates created with the best beans and processes to deliver a rich aroma, smooth texture, and an even, velvety taste. Gourmet chocolates include more cocoa, have a shinier appearance, and are more expensive than plain chocolates.\n",
    "\n",
    "The taste is the most noticeable distinction between conventional chocolate and premium chocolate. Gourmet chocolate melts in the mouth like velvet, whereas ordinary chocolate may taste waxy or uneven. It is necessary to learn about the qualities of highly rated gourmet chocolate bars in order to understand what the target market wants from manufacturers.\n",
    "![image-caption](datacamp.jpg)\n",
    "\n",
    "### The data\n",
    "This dataset contains expert ratings of over 2,500 individual chocolate bars, along with information on their regional origin, percentage of cocoa, the variety of cacao bean used and where the beans were grown.\n",
    "\n",
    "***Acknowledgments**: Brady Brelinski, Manhattan Chocolate Society*\n"
   ]
  },
  {
   "cell_type": "markdown",
   "id": "1b9def34-eca2-4030-9a1f-6f3d7b4be99b",
   "metadata": {},
   "source": [
    "## Inspecting Data\n",
    "\n",
    "Data is inspected to check for any descrepancies such as misspellings, redundant column names and inaccurate data intervals."
   ]
  },
  {
   "cell_type": "code",
   "execution_count": 65,
   "id": "c0cd2b19-ca11-40e2-8c6a-6c9d421cc92d",
   "metadata": {},
   "outputs": [
    {
     "data": {
      "application/com.datacamp.data-table.v1+json": {
       "is_truncated": false,
       "table": {
        "data": [
         {
          "bar_name": "Kokoa Kamili, batch 1",
          "bean_origin": "Tanzania",
          "cocoa_percent": 76,
          "company_location": "U.S.A.",
          "id": 2454,
          "index": "1",
          "ingredients": "B,S,C",
          "manufacturer": "5150",
          "num_ingredients": 3,
          "rating": 3.25,
          "review": "rich cocoa, fatty, bready",
          "year_reviewed": 2019
         },
         {
          "bar_name": "Zorzal, batch 1",
          "bean_origin": "Dominican Republic",
          "cocoa_percent": 76,
          "company_location": "U.S.A.",
          "id": 2458,
          "index": "2",
          "ingredients": "B,S,C",
          "manufacturer": "5150",
          "num_ingredients": 3,
          "rating": 3.5,
          "review": "cocoa, vegetal, savory",
          "year_reviewed": 2019
         },
         {
          "bar_name": "Bejofo Estate, batch 1",
          "bean_origin": "Madagascar",
          "cocoa_percent": 76,
          "company_location": "U.S.A.",
          "id": 2454,
          "index": "3",
          "ingredients": "B,S,C",
          "manufacturer": "5150",
          "num_ingredients": 3,
          "rating": 3.75,
          "review": "cocoa, blackberry, full body",
          "year_reviewed": 2019
         },
         {
          "bar_name": "Matasawalevu, batch 1",
          "bean_origin": "Fiji",
          "cocoa_percent": 68,
          "company_location": "U.S.A.",
          "id": 2542,
          "index": "4",
          "ingredients": "B,S,C",
          "manufacturer": "5150",
          "num_ingredients": 3,
          "rating": 3,
          "review": "chewy, off, rubbery",
          "year_reviewed": 2021
         },
         {
          "bar_name": "Sur del Lago, batch 1",
          "bean_origin": "Venezuela",
          "cocoa_percent": 72,
          "company_location": "U.S.A.",
          "id": 2546,
          "index": "5",
          "ingredients": "B,S,C",
          "manufacturer": "5150",
          "num_ingredients": 3,
          "rating": 3,
          "review": "fatty, earthy, moss, nutty,chalky",
          "year_reviewed": 2021
         },
         {
          "bar_name": "Semuliki Forest, batch 1",
          "bean_origin": "Uganda",
          "cocoa_percent": 80,
          "company_location": "U.S.A.",
          "id": 2546,
          "index": "6",
          "ingredients": "B,S,C",
          "manufacturer": "5150",
          "num_ingredients": 3,
          "rating": 3.25,
          "review": "mildly bitter, basic cocoa, fatty",
          "year_reviewed": 2021
         }
        ],
        "schema": {
         "fields": [
          {
           "name": "index",
           "type": "string"
          },
          {
           "name": "id",
           "type": "float"
          },
          {
           "name": "manufacturer",
           "type": "string"
          },
          {
           "name": "company_location",
           "type": "string"
          },
          {
           "name": "year_reviewed",
           "type": "float"
          },
          {
           "name": "bean_origin",
           "type": "string"
          },
          {
           "name": "bar_name",
           "type": "string"
          },
          {
           "name": "cocoa_percent",
           "type": "float"
          },
          {
           "name": "num_ingredients",
           "type": "float"
          },
          {
           "name": "ingredients",
           "type": "string"
          },
          {
           "name": "review",
           "type": "string"
          },
          {
           "name": "rating",
           "type": "float"
          }
         ],
         "pandas_version": "0.20.0",
         "primaryKey": [
          "index"
         ]
        }
       },
       "total_rows": 6
      },
      "text/html": [
       "<table class=\"dataframe\">\n",
       "<caption>A data.frame: 6 × 11</caption>\n",
       "<thead>\n",
       "\t<tr><th></th><th scope=col>id</th><th scope=col>manufacturer</th><th scope=col>company_location</th><th scope=col>year_reviewed</th><th scope=col>bean_origin</th><th scope=col>bar_name</th><th scope=col>cocoa_percent</th><th scope=col>num_ingredients</th><th scope=col>ingredients</th><th scope=col>review</th><th scope=col>rating</th></tr>\n",
       "\t<tr><th></th><th scope=col>&lt;dbl&gt;</th><th scope=col>&lt;chr&gt;</th><th scope=col>&lt;chr&gt;</th><th scope=col>&lt;dbl&gt;</th><th scope=col>&lt;chr&gt;</th><th scope=col>&lt;chr&gt;</th><th scope=col>&lt;dbl&gt;</th><th scope=col>&lt;dbl&gt;</th><th scope=col>&lt;chr&gt;</th><th scope=col>&lt;chr&gt;</th><th scope=col>&lt;dbl&gt;</th></tr>\n",
       "</thead>\n",
       "<tbody>\n",
       "\t<tr><th scope=row>1</th><td>2454</td><td>5150</td><td>U.S.A.</td><td>2019</td><td>Tanzania          </td><td>Kokoa Kamili, batch 1   </td><td>76</td><td>3</td><td>B,S,C</td><td>rich cocoa, fatty, bready        </td><td>3.25</td></tr>\n",
       "\t<tr><th scope=row>2</th><td>2458</td><td>5150</td><td>U.S.A.</td><td>2019</td><td>Dominican Republic</td><td>Zorzal, batch 1         </td><td>76</td><td>3</td><td>B,S,C</td><td>cocoa, vegetal, savory           </td><td>3.50</td></tr>\n",
       "\t<tr><th scope=row>3</th><td>2454</td><td>5150</td><td>U.S.A.</td><td>2019</td><td>Madagascar        </td><td>Bejofo Estate, batch 1  </td><td>76</td><td>3</td><td>B,S,C</td><td>cocoa, blackberry, full body     </td><td>3.75</td></tr>\n",
       "\t<tr><th scope=row>4</th><td>2542</td><td>5150</td><td>U.S.A.</td><td>2021</td><td>Fiji              </td><td>Matasawalevu, batch 1   </td><td>68</td><td>3</td><td>B,S,C</td><td>chewy, off, rubbery              </td><td>3.00</td></tr>\n",
       "\t<tr><th scope=row>5</th><td>2546</td><td>5150</td><td>U.S.A.</td><td>2021</td><td>Venezuela         </td><td>Sur del Lago, batch 1   </td><td>72</td><td>3</td><td>B,S,C</td><td>fatty, earthy, moss, nutty,chalky</td><td>3.00</td></tr>\n",
       "\t<tr><th scope=row>6</th><td>2546</td><td>5150</td><td>U.S.A.</td><td>2021</td><td>Uganda            </td><td>Semuliki Forest, batch 1</td><td>80</td><td>3</td><td>B,S,C</td><td>mildly bitter, basic cocoa, fatty</td><td>3.25</td></tr>\n",
       "</tbody>\n",
       "</table>\n"
      ],
      "text/latex": [
       "A data.frame: 6 × 11\n",
       "\\begin{tabular}{r|lllllllllll}\n",
       "  & id & manufacturer & company\\_location & year\\_reviewed & bean\\_origin & bar\\_name & cocoa\\_percent & num\\_ingredients & ingredients & review & rating\\\\\n",
       "  & <dbl> & <chr> & <chr> & <dbl> & <chr> & <chr> & <dbl> & <dbl> & <chr> & <chr> & <dbl>\\\\\n",
       "\\hline\n",
       "\t1 & 2454 & 5150 & U.S.A. & 2019 & Tanzania           & Kokoa Kamili, batch 1    & 76 & 3 & B,S,C & rich cocoa, fatty, bready         & 3.25\\\\\n",
       "\t2 & 2458 & 5150 & U.S.A. & 2019 & Dominican Republic & Zorzal, batch 1          & 76 & 3 & B,S,C & cocoa, vegetal, savory            & 3.50\\\\\n",
       "\t3 & 2454 & 5150 & U.S.A. & 2019 & Madagascar         & Bejofo Estate, batch 1   & 76 & 3 & B,S,C & cocoa, blackberry, full body      & 3.75\\\\\n",
       "\t4 & 2542 & 5150 & U.S.A. & 2021 & Fiji               & Matasawalevu, batch 1    & 68 & 3 & B,S,C & chewy, off, rubbery               & 3.00\\\\\n",
       "\t5 & 2546 & 5150 & U.S.A. & 2021 & Venezuela          & Sur del Lago, batch 1    & 72 & 3 & B,S,C & fatty, earthy, moss, nutty,chalky & 3.00\\\\\n",
       "\t6 & 2546 & 5150 & U.S.A. & 2021 & Uganda             & Semuliki Forest, batch 1 & 80 & 3 & B,S,C & mildly bitter, basic cocoa, fatty & 3.25\\\\\n",
       "\\end{tabular}\n"
      ],
      "text/markdown": [
       "\n",
       "A data.frame: 6 × 11\n",
       "\n",
       "| <!--/--> | id &lt;dbl&gt; | manufacturer &lt;chr&gt; | company_location &lt;chr&gt; | year_reviewed &lt;dbl&gt; | bean_origin &lt;chr&gt; | bar_name &lt;chr&gt; | cocoa_percent &lt;dbl&gt; | num_ingredients &lt;dbl&gt; | ingredients &lt;chr&gt; | review &lt;chr&gt; | rating &lt;dbl&gt; |\n",
       "|---|---|---|---|---|---|---|---|---|---|---|---|\n",
       "| 1 | 2454 | 5150 | U.S.A. | 2019 | Tanzania           | Kokoa Kamili, batch 1    | 76 | 3 | B,S,C | rich cocoa, fatty, bready         | 3.25 |\n",
       "| 2 | 2458 | 5150 | U.S.A. | 2019 | Dominican Republic | Zorzal, batch 1          | 76 | 3 | B,S,C | cocoa, vegetal, savory            | 3.50 |\n",
       "| 3 | 2454 | 5150 | U.S.A. | 2019 | Madagascar         | Bejofo Estate, batch 1   | 76 | 3 | B,S,C | cocoa, blackberry, full body      | 3.75 |\n",
       "| 4 | 2542 | 5150 | U.S.A. | 2021 | Fiji               | Matasawalevu, batch 1    | 68 | 3 | B,S,C | chewy, off, rubbery               | 3.00 |\n",
       "| 5 | 2546 | 5150 | U.S.A. | 2021 | Venezuela          | Sur del Lago, batch 1    | 72 | 3 | B,S,C | fatty, earthy, moss, nutty,chalky | 3.00 |\n",
       "| 6 | 2546 | 5150 | U.S.A. | 2021 | Uganda             | Semuliki Forest, batch 1 | 80 | 3 | B,S,C | mildly bitter, basic cocoa, fatty | 3.25 |\n",
       "\n"
      ],
      "text/plain": [
       "  id   manufacturer company_location year_reviewed bean_origin       \n",
       "1 2454 5150         U.S.A.           2019          Tanzania          \n",
       "2 2458 5150         U.S.A.           2019          Dominican Republic\n",
       "3 2454 5150         U.S.A.           2019          Madagascar        \n",
       "4 2542 5150         U.S.A.           2021          Fiji              \n",
       "5 2546 5150         U.S.A.           2021          Venezuela         \n",
       "6 2546 5150         U.S.A.           2021          Uganda            \n",
       "  bar_name                 cocoa_percent num_ingredients ingredients\n",
       "1 Kokoa Kamili, batch 1    76            3               B,S,C      \n",
       "2 Zorzal, batch 1          76            3               B,S,C      \n",
       "3 Bejofo Estate, batch 1   76            3               B,S,C      \n",
       "4 Matasawalevu, batch 1    68            3               B,S,C      \n",
       "5 Sur del Lago, batch 1    72            3               B,S,C      \n",
       "6 Semuliki Forest, batch 1 80            3               B,S,C      \n",
       "  review                            rating\n",
       "1 rich cocoa, fatty, bready         3.25  \n",
       "2 cocoa, vegetal, savory            3.50  \n",
       "3 cocoa, blackberry, full body      3.75  \n",
       "4 chewy, off, rubbery               3.00  \n",
       "5 fatty, earthy, moss, nutty,chalky 3.00  \n",
       "6 mildly bitter, basic cocoa, fatty 3.25  "
      ]
     },
     "metadata": {},
     "output_type": "display_data"
    },
    {
     "data": {
      "text/plain": [
       "       id       manufacturer       company_location   year_reviewed \n",
       " Min.   :   5   Length:2530        Length:2530        Min.   :2006  \n",
       " 1st Qu.: 802   Class :character   Class :character   1st Qu.:2012  \n",
       " Median :1454   Mode  :character   Mode  :character   Median :2015  \n",
       " Mean   :1430                                         Mean   :2014  \n",
       " 3rd Qu.:2079                                         3rd Qu.:2018  \n",
       " Max.   :2712                                         Max.   :2021  \n",
       "                                                                    \n",
       " bean_origin          bar_name         cocoa_percent    num_ingredients\n",
       " Length:2530        Length:2530        Min.   : 42.00   Min.   :1.000  \n",
       " Class :character   Class :character   1st Qu.: 70.00   1st Qu.:2.000  \n",
       " Mode  :character   Mode  :character   Median : 70.00   Median :3.000  \n",
       "                                       Mean   : 71.64   Mean   :3.041  \n",
       "                                       3rd Qu.: 74.00   3rd Qu.:4.000  \n",
       "                                       Max.   :100.00   Max.   :6.000  \n",
       "                                                        NA's   :87     \n",
       " ingredients           review              rating     \n",
       " Length:2530        Length:2530        Min.   :1.000  \n",
       " Class :character   Class :character   1st Qu.:3.000  \n",
       " Mode  :character   Mode  :character   Median :3.250  \n",
       "                                       Mean   :3.196  \n",
       "                                       3rd Qu.:3.500  \n",
       "                                       Max.   :4.000  \n",
       "                                                      "
      ]
     },
     "metadata": {},
     "output_type": "display_data"
    }
   ],
   "source": [
    "# Loading the tidiverse package\n",
    "suppressPackageStartupMessages(library(tidyverse))\n",
    "\n",
    "# Reading in the data\n",
    "cb <- readr::read_csv('data/chocolate_bars.csv', show_col_types = FALSE)\n",
    "cb <- as.data.frame(cb)\n",
    "\n",
    "# Take a look at the first datapoints\n",
    "head(cb)\n",
    "summary(cb)"
   ]
  },
  {
   "cell_type": "markdown",
   "id": "99b3d5a0-62f2-417f-89f0-efe7a15b955d",
   "metadata": {},
   "source": [
    "### Missing Data Profile\n",
    "We count the number of overall missing values. Then visualize where these ommitted values are present with the help of the `naniar` package."
   ]
  },
  {
   "cell_type": "code",
   "execution_count": 66,
   "id": "70a3b9bd",
   "metadata": {},
   "outputs": [
    {
     "data": {
      "text/html": [
       "'There are 174 missing values'"
      ],
      "text/latex": [
       "'There are 174 missing values'"
      ],
      "text/markdown": [
       "'There are 174 missing values'"
      ],
      "text/plain": [
       "[1] \"There are 174 missing values\""
      ]
     },
     "metadata": {},
     "output_type": "display_data"
    },
    {
     "data": {
      "image/png": "[encoded data removed]",
      "text/plain": [
       "plot without title"
      ]
     },
     "metadata": {
      "image/png": {
       "height": 420,
       "width": 420
      }
     },
     "output_type": "display_data"
    }
   ],
   "source": [
    "# Checking missing values\n",
    "paste(\"There are\", sum(is.na(cb)), \"missing values\")\n",
    "\n",
    "v <- capture.output(install.packages(\"naniar\"))\n",
    "\n",
    "suppressPackageStartupMessages(library(naniar))\n",
    "vis_miss(cb)\n",
    "\n"
   ]
  },
  {
   "cell_type": "markdown",
   "id": "c03234c9-8c4d-4f16-ad26-f619ba604a80",
   "metadata": {},
   "source": [
    "There are 174 missing values that are present in the `num_ingredients` and `ingredients`. To fix this we fill the missing values with ones beneath each."
   ]
  },
  {
   "cell_type": "code",
   "execution_count": 67,
   "id": "89116d87-b0e0-47fe-9eaa-aaf8d4e7c72b",
   "metadata": {},
   "outputs": [
    {
     "data": {
      "image/png": "[encoded data removed]",
      "text/plain": [
       "plot without title"
      ]
     },
     "metadata": {
      "image/png": {
       "height": 420,
       "width": 420
      }
     },
     "output_type": "display_data"
    }
   ],
   "source": [
    "# Filling missing values\n",
    "cb <- cb %>% fill(num_ingredients, ingredients)\n",
    "\n",
    "vis_miss(cb)"
   ]
  },
  {
   "cell_type": "markdown",
   "id": "e284bdf0",
   "metadata": {},
   "source": [
    "## Average rating for chocolate bars by country of origin\n",
    "\n",
    "Here we find the average rating for chocolate bars according to their bean origin. Additionally, data is binned according to the scale of their individual rating to prepare for its visualization.\n",
    "\n",
    "We can use `group_by` to group the information by the column \"num_ingredients\". Then we use `summarize` and `mean()` to get the average rating for each group:"
   ]
  },
  {
   "cell_type": "code",
   "execution_count": 10,
   "id": "5d4e35b9",
   "metadata": {},
   "outputs": [
    {
     "data": {
      "application/com.datacamp.data-table.v1+json": {
       "is_truncated": false,
       "table": {
        "data": [
         {
          "avg_rating": 3.625,
          "bean_origin": "Tobago",
          "index": "1"
         },
         {
          "avg_rating": 3.5,
          "bean_origin": "China",
          "index": "2"
         },
         {
          "avg_rating": 3.5,
          "bean_origin": "Sao Tome & Principe",
          "index": "3"
         },
         {
          "avg_rating": 3.45,
          "bean_origin": "Solomon Islands",
          "index": "4"
         },
         {
          "avg_rating": 3.3182,
          "bean_origin": "Congo",
          "index": "5"
         },
         {
          "avg_rating": 3.3,
          "bean_origin": "Thailand",
          "index": "6"
         }
        ],
        "schema": {
         "fields": [
          {
           "name": "index",
           "type": "string"
          },
          {
           "name": "bean_origin",
           "type": "string"
          },
          {
           "name": "avg_rating",
           "type": "float"
          }
         ],
         "pandas_version": "0.20.0",
         "primaryKey": [
          "index"
         ]
        }
       },
       "total_rows": 6
      },
      "text/html": [
       "<table class=\"dataframe\">\n",
       "<caption>A tibble: 6 × 2</caption>\n",
       "<thead>\n",
       "\t<tr><th scope=col>bean_origin</th><th scope=col>avg_rating</th></tr>\n",
       "\t<tr><th scope=col>&lt;chr&gt;</th><th scope=col>&lt;dbl&gt;</th></tr>\n",
       "</thead>\n",
       "<tbody>\n",
       "\t<tr><td>Tobago             </td><td>3.625000</td></tr>\n",
       "\t<tr><td>China              </td><td>3.500000</td></tr>\n",
       "\t<tr><td>Sao Tome &amp; Principe</td><td>3.500000</td></tr>\n",
       "\t<tr><td>Solomon Islands    </td><td>3.450000</td></tr>\n",
       "\t<tr><td>Congo              </td><td>3.318182</td></tr>\n",
       "\t<tr><td>Thailand           </td><td>3.300000</td></tr>\n",
       "</tbody>\n",
       "</table>\n"
      ],
      "text/latex": [
       "A tibble: 6 × 2\n",
       "\\begin{tabular}{ll}\n",
       " bean\\_origin & avg\\_rating\\\\\n",
       " <chr> & <dbl>\\\\\n",
       "\\hline\n",
       "\t Tobago              & 3.625000\\\\\n",
       "\t China               & 3.500000\\\\\n",
       "\t Sao Tome \\& Principe & 3.500000\\\\\n",
       "\t Solomon Islands     & 3.450000\\\\\n",
       "\t Congo               & 3.318182\\\\\n",
       "\t Thailand            & 3.300000\\\\\n",
       "\\end{tabular}\n"
      ],
      "text/markdown": [
       "\n",
       "A tibble: 6 × 2\n",
       "\n",
       "| bean_origin &lt;chr&gt; | avg_rating &lt;dbl&gt; |\n",
       "|---|---|\n",
       "| Tobago              | 3.625000 |\n",
       "| China               | 3.500000 |\n",
       "| Sao Tome &amp; Principe | 3.500000 |\n",
       "| Solomon Islands     | 3.450000 |\n",
       "| Congo               | 3.318182 |\n",
       "| Thailand            | 3.300000 |\n",
       "\n"
      ],
      "text/plain": [
       "  bean_origin         avg_rating\n",
       "1 Tobago              3.625000  \n",
       "2 China               3.500000  \n",
       "3 Sao Tome & Principe 3.500000  \n",
       "4 Solomon Islands     3.450000  \n",
       "5 Congo               3.318182  \n",
       "6 Thailand            3.300000  "
      ]
     },
     "metadata": {},
     "output_type": "display_data"
    }
   ],
   "source": [
    "\n",
    "\n",
    "# Categorizing data\n",
    "cb <- cb %>% mutate(rating_cat = case_when(\n",
    "  rating >= 1 & rating <= 1.9 ~ \"Unpleasant\",\n",
    "  rating >= 2 & rating <= 2.9 ~ \"Disappointing\",\n",
    "  rating >= 3 & rating <= 3.49 ~ \"Recommended\",\n",
    "  rating >= 3.5 & rating <= 3.9 ~ \"Highly Recommended\",\n",
    "  rating >= 4 & rating <= 5 ~ \"Outstanding\"\n",
    "))\n",
    "\n",
    "# Average rating by country of origin\n",
    "rating_origin<- cb %>% group_by(bean_origin) %>%  summarize(avg_rating = mean(rating)) %>% arrange(desc(avg_rating))\n",
    "head(rating_origin)\n"
   ]
  },
  {
   "cell_type": "markdown",
   "id": "5cd1d265-1055-46b5-b512-027e5c6ff01f",
   "metadata": {},
   "source": [
    "Tobago, China, and Sao Tome and Principe provide the top three most highly rated cocoa beans based on average ratings. We may also plot the above-mentioned table (average rating for chocolate bars by country of origin):"
   ]
  },
  {
   "cell_type": "code",
   "execution_count": 56,
   "id": "b61d5b55-e8e7-4339-9729-ef13bdaa12e7",
   "metadata": {},
   "outputs": [
    {
     "data": {
      "image/png": "[encoded data removed]",
      "text/plain": [
       "plot without title"
      ]
     },
     "metadata": {
      "image/png": {
       "height": 420,
       "width": 420
      }
     },
     "output_type": "display_data"
    }
   ],
   "source": [
    "# Visualising average rating by country of origin\n",
    "ggplot(rating_origin, aes(reorder(bean_origin, avg_rating), avg_rating)) + \n",
    "  geom_col(aes(fill = avg_rating), width = 0.5)+ geom_point() + theme_classic() + theme(axis.text.x = element_text(angle = 90)) +\n",
    "\tlabs(title = \" Chocolate bar average rating by country of origin \") + xlab(\"cacao bean origin\") + ylab(\"average rating\")\n",
    "\t"
   ]
  },
  {
   "cell_type": "markdown",
   "id": "59ccd339-0c2a-4596-bf58-98df2abd0324",
   "metadata": {},
   "source": [
    "## Number of bars for chocolate bars by country of origin\n",
    "\n",
    "We count the number of graded bars and group them by the country of origin of their cocoa beans. This will tell us how important those ratings are.\n"
   ]
  },
  {
   "cell_type": "code",
   "execution_count": 14,
   "id": "9e45e1f8",
   "metadata": {},
   "outputs": [
    {
     "data": {
      "application/com.datacamp.data-table.v1+json": {
       "is_truncated": false,
       "table": {
        "data": [
         {
          "bean_origin": "Venezuela",
          "index": "1",
          "n": 253
         },
         {
          "bean_origin": "Peru",
          "index": "2",
          "n": 244
         },
         {
          "bean_origin": "Dominican Republic",
          "index": "3",
          "n": 226
         },
         {
          "bean_origin": "Ecuador",
          "index": "4",
          "n": 219
         },
         {
          "bean_origin": "Madagascar",
          "index": "5",
          "n": 177
         },
         {
          "bean_origin": "Blend",
          "index": "6",
          "n": 156
         }
        ],
        "schema": {
         "fields": [
          {
           "name": "index",
           "type": "string"
          },
          {
           "name": "bean_origin",
           "type": "string"
          },
          {
           "name": "n",
           "type": "integer"
          }
         ],
         "pandas_version": "0.20.0",
         "primaryKey": [
          "index"
         ]
        }
       },
       "total_rows": 6
      },
      "text/html": [
       "<table class=\"dataframe\">\n",
       "<caption>A tibble: 6 × 2</caption>\n",
       "<thead>\n",
       "\t<tr><th scope=col>bean_origin</th><th scope=col>n</th></tr>\n",
       "\t<tr><th scope=col>&lt;chr&gt;</th><th scope=col>&lt;int&gt;</th></tr>\n",
       "</thead>\n",
       "<tbody>\n",
       "\t<tr><td>Venezuela         </td><td>253</td></tr>\n",
       "\t<tr><td>Peru              </td><td>244</td></tr>\n",
       "\t<tr><td>Dominican Republic</td><td>226</td></tr>\n",
       "\t<tr><td>Ecuador           </td><td>219</td></tr>\n",
       "\t<tr><td>Madagascar        </td><td>177</td></tr>\n",
       "\t<tr><td>Blend             </td><td>156</td></tr>\n",
       "</tbody>\n",
       "</table>\n"
      ],
      "text/latex": [
       "A tibble: 6 × 2\n",
       "\\begin{tabular}{ll}\n",
       " bean\\_origin & n\\\\\n",
       " <chr> & <int>\\\\\n",
       "\\hline\n",
       "\t Venezuela          & 253\\\\\n",
       "\t Peru               & 244\\\\\n",
       "\t Dominican Republic & 226\\\\\n",
       "\t Ecuador            & 219\\\\\n",
       "\t Madagascar         & 177\\\\\n",
       "\t Blend              & 156\\\\\n",
       "\\end{tabular}\n"
      ],
      "text/markdown": [
       "\n",
       "A tibble: 6 × 2\n",
       "\n",
       "| bean_origin &lt;chr&gt; | n &lt;int&gt; |\n",
       "|---|---|\n",
       "| Venezuela          | 253 |\n",
       "| Peru               | 244 |\n",
       "| Dominican Republic | 226 |\n",
       "| Ecuador            | 219 |\n",
       "| Madagascar         | 177 |\n",
       "| Blend              | 156 |\n",
       "\n"
      ],
      "text/plain": [
       "  bean_origin        n  \n",
       "1 Venezuela          253\n",
       "2 Peru               244\n",
       "3 Dominican Republic 226\n",
       "4 Ecuador            219\n",
       "5 Madagascar         177\n",
       "6 Blend              156"
      ]
     },
     "metadata": {},
     "output_type": "display_data"
    }
   ],
   "source": [
    "# Number of bars reviewed by country of origin\n",
    "bar_origns <- cb %>% group_by(bean_origin) %>% summarize(n = length(bar_name)) %>% arrange(desc(n))\n",
    "head(bar_origns)\n",
    "\n"
   ]
  },
  {
   "cell_type": "markdown",
   "id": "14ced85f-461f-4b37-bc46-fd8fdde91e18",
   "metadata": {},
   "source": [
    "The majority of the rated bars appear to be from Venezuela, Peru, and the Dominican Republic. We may also plot the above-mentioned table (number of bars for chocolate bars by nation of origin):"
   ]
  },
  {
   "cell_type": "code",
   "execution_count": 60,
   "id": "3414b24c-8c06-41ee-aa10-0b95202dca87",
   "metadata": {},
   "outputs": [
    {
     "data": {
      "image/png": "[encoded data removed]",
      "text/plain": [
       "plot without title"
      ]
     },
     "metadata": {
      "image/png": {
       "height": 420,
       "width": 420
      }
     },
     "output_type": "display_data"
    }
   ],
   "source": [
    "# Number of bars reviewed by country of origin\n",
    "ggplot(bar_origns, aes(reorder(bean_origin,n),n)) +  geom_col(aes(fill = n), width = 0.5)+ \n",
    "  geom_point() + theme_classic() + theme(axis.text.x = element_text(angle = 90)) +\n",
    "\tlabs(title = \" Number of chocolate bars by country of origin \") + xlab(\"cacao bean origin\") + ylab(\"number of chocolate bar names\")\n"
   ]
  },
  {
   "cell_type": "markdown",
   "id": "a2a782e7-cdbc-405e-94ee-ade302adf8ba",
   "metadata": {},
   "source": [
    "## Is the cacao bean's origin an indicator of quality?"
   ]
  },
  {
   "cell_type": "code",
   "execution_count": 23,
   "id": "c80fd500-f215-405f-a8ef-d8864768e8a0",
   "metadata": {},
   "outputs": [
    {
     "data": {
      "application/com.datacamp.data-table.v1+json": {
       "is_truncated": false,
       "table": {
        "data": [
         {
          "avg_percent": 72.0178,
          "avg_rating": 3.2312,
          "bean_origin": "Venezuela",
          "index": "1",
          "n": 253
         },
         {
          "avg_percent": 70.9508,
          "avg_rating": 3.1977,
          "bean_origin": "Peru",
          "index": "2",
          "n": 244
         },
         {
          "avg_percent": 71.5265,
          "avg_rating": 3.2157,
          "bean_origin": "Dominican Republic",
          "index": "3",
          "n": 226
         },
         {
          "avg_percent": 73.2763,
          "avg_rating": 3.1644,
          "bean_origin": "Ecuador",
          "index": "4",
          "n": 219
         },
         {
          "avg_percent": 71.2373,
          "avg_rating": 3.2669,
          "bean_origin": "Madagascar",
          "index": "5",
          "n": 177
         },
         {
          "avg_percent": 71.9263,
          "avg_rating": 3.0385,
          "bean_origin": "Blend",
          "index": "6",
          "n": 156
         },
         {
          "avg_percent": 71.42,
          "avg_rating": 3.255,
          "bean_origin": "Nicaragua",
          "index": "7",
          "n": 100
         },
         {
          "avg_percent": 71.5875,
          "avg_rating": 3.1812,
          "bean_origin": "Bolivia",
          "index": "8",
          "n": 80
         },
         {
          "avg_percent": 72.2658,
          "avg_rating": 3.2342,
          "bean_origin": "Tanzania",
          "index": "9",
          "n": 79
         },
         {
          "avg_percent": 70.9873,
          "avg_rating": 3.1962,
          "bean_origin": "Colombia",
          "index": "10",
          "n": 79
         }
        ],
        "schema": {
         "fields": [
          {
           "name": "index",
           "type": "string"
          },
          {
           "name": "bean_origin",
           "type": "string"
          },
          {
           "name": "avg_rating",
           "type": "float"
          },
          {
           "name": "n",
           "type": "integer"
          },
          {
           "name": "avg_percent",
           "type": "float"
          }
         ],
         "pandas_version": "0.20.0",
         "primaryKey": [
          "index"
         ]
        }
       },
       "total_rows": 10
      },
      "text/html": [
       "<table class=\"dataframe\">\n",
       "<caption>A tibble: 10 × 4</caption>\n",
       "<thead>\n",
       "\t<tr><th scope=col>bean_origin</th><th scope=col>avg_rating</th><th scope=col>n</th><th scope=col>avg_percent</th></tr>\n",
       "\t<tr><th scope=col>&lt;chr&gt;</th><th scope=col>&lt;dbl&gt;</th><th scope=col>&lt;int&gt;</th><th scope=col>&lt;dbl&gt;</th></tr>\n",
       "</thead>\n",
       "<tbody>\n",
       "\t<tr><td>Venezuela         </td><td>3.231225</td><td>253</td><td>72.01779</td></tr>\n",
       "\t<tr><td>Peru              </td><td>3.197746</td><td>244</td><td>70.95082</td></tr>\n",
       "\t<tr><td>Dominican Republic</td><td>3.215708</td><td>226</td><td>71.52655</td></tr>\n",
       "\t<tr><td>Ecuador           </td><td>3.164384</td><td>219</td><td>73.27626</td></tr>\n",
       "\t<tr><td>Madagascar        </td><td>3.266949</td><td>177</td><td>71.23729</td></tr>\n",
       "\t<tr><td>Blend             </td><td>3.038462</td><td>156</td><td>71.92628</td></tr>\n",
       "\t<tr><td>Nicaragua         </td><td>3.255000</td><td>100</td><td>71.42000</td></tr>\n",
       "\t<tr><td>Bolivia           </td><td>3.181250</td><td> 80</td><td>71.58750</td></tr>\n",
       "\t<tr><td>Tanzania          </td><td>3.234177</td><td> 79</td><td>72.26582</td></tr>\n",
       "\t<tr><td>Colombia          </td><td>3.196203</td><td> 79</td><td>70.98734</td></tr>\n",
       "</tbody>\n",
       "</table>\n"
      ],
      "text/latex": [
       "A tibble: 10 × 4\n",
       "\\begin{tabular}{llll}\n",
       " bean\\_origin & avg\\_rating & n & avg\\_percent\\\\\n",
       " <chr> & <dbl> & <int> & <dbl>\\\\\n",
       "\\hline\n",
       "\t Venezuela          & 3.231225 & 253 & 72.01779\\\\\n",
       "\t Peru               & 3.197746 & 244 & 70.95082\\\\\n",
       "\t Dominican Republic & 3.215708 & 226 & 71.52655\\\\\n",
       "\t Ecuador            & 3.164384 & 219 & 73.27626\\\\\n",
       "\t Madagascar         & 3.266949 & 177 & 71.23729\\\\\n",
       "\t Blend              & 3.038462 & 156 & 71.92628\\\\\n",
       "\t Nicaragua          & 3.255000 & 100 & 71.42000\\\\\n",
       "\t Bolivia            & 3.181250 &  80 & 71.58750\\\\\n",
       "\t Tanzania           & 3.234177 &  79 & 72.26582\\\\\n",
       "\t Colombia           & 3.196203 &  79 & 70.98734\\\\\n",
       "\\end{tabular}\n"
      ],
      "text/markdown": [
       "\n",
       "A tibble: 10 × 4\n",
       "\n",
       "| bean_origin &lt;chr&gt; | avg_rating &lt;dbl&gt; | n &lt;int&gt; | avg_percent &lt;dbl&gt; |\n",
       "|---|---|---|---|\n",
       "| Venezuela          | 3.231225 | 253 | 72.01779 |\n",
       "| Peru               | 3.197746 | 244 | 70.95082 |\n",
       "| Dominican Republic | 3.215708 | 226 | 71.52655 |\n",
       "| Ecuador            | 3.164384 | 219 | 73.27626 |\n",
       "| Madagascar         | 3.266949 | 177 | 71.23729 |\n",
       "| Blend              | 3.038462 | 156 | 71.92628 |\n",
       "| Nicaragua          | 3.255000 | 100 | 71.42000 |\n",
       "| Bolivia            | 3.181250 |  80 | 71.58750 |\n",
       "| Tanzania           | 3.234177 |  79 | 72.26582 |\n",
       "| Colombia           | 3.196203 |  79 | 70.98734 |\n",
       "\n"
      ],
      "text/plain": [
       "   bean_origin        avg_rating n   avg_percent\n",
       "1  Venezuela          3.231225   253 72.01779   \n",
       "2  Peru               3.197746   244 70.95082   \n",
       "3  Dominican Republic 3.215708   226 71.52655   \n",
       "4  Ecuador            3.164384   219 73.27626   \n",
       "5  Madagascar         3.266949   177 71.23729   \n",
       "6  Blend              3.038462   156 71.92628   \n",
       "7  Nicaragua          3.255000   100 71.42000   \n",
       "8  Bolivia            3.181250    80 71.58750   \n",
       "9  Tanzania           3.234177    79 72.26582   \n",
       "10 Colombia           3.196203    79 70.98734   "
      ]
     },
     "metadata": {},
     "output_type": "display_data"
    },
    {
     "data": {
      "application/com.datacamp.data-table.v1+json": {
       "is_truncated": false,
       "table": {
        "data": [
         {
          "avg_percent": 65,
          "avg_rating": 3.625,
          "bean_origin": "Tobago",
          "index": "1",
          "n": 2
         },
         {
          "avg_percent": 72.5,
          "avg_rating": 3.5,
          "bean_origin": "Sao Tome & Principe",
          "index": "2",
          "n": 2
         },
         {
          "avg_percent": 72,
          "avg_rating": 3.5,
          "bean_origin": "China",
          "index": "3",
          "n": 1
         },
         {
          "avg_percent": 71.8,
          "avg_rating": 3.45,
          "bean_origin": "Solomon Islands",
          "index": "4",
          "n": 10
         },
         {
          "avg_percent": 70.4545,
          "avg_rating": 3.3182,
          "bean_origin": "Congo",
          "index": "5",
          "n": 11
         },
         {
          "avg_percent": 70,
          "avg_rating": 3.3,
          "bean_origin": "Thailand",
          "index": "6",
          "n": 5
         },
         {
          "avg_percent": 74.3333,
          "avg_rating": 3.2917,
          "bean_origin": "Cuba",
          "index": "7",
          "n": 12
         },
         {
          "avg_percent": 72.3562,
          "avg_rating": 3.2877,
          "bean_origin": "Vietnam",
          "index": "8",
          "n": 73
         },
         {
          "avg_percent": 70.68,
          "avg_rating": 3.28,
          "bean_origin": "Papua New Guinea",
          "index": "9",
          "n": 50
         },
         {
          "avg_percent": 71.2373,
          "avg_rating": 3.2669,
          "bean_origin": "Madagascar",
          "index": "10",
          "n": 177
         }
        ],
        "schema": {
         "fields": [
          {
           "name": "index",
           "type": "string"
          },
          {
           "name": "bean_origin",
           "type": "string"
          },
          {
           "name": "avg_rating",
           "type": "float"
          },
          {
           "name": "n",
           "type": "integer"
          },
          {
           "name": "avg_percent",
           "type": "float"
          }
         ],
         "pandas_version": "0.20.0",
         "primaryKey": [
          "index"
         ]
        }
       },
       "total_rows": 10
      },
      "text/html": [
       "<table class=\"dataframe\">\n",
       "<caption>A tibble: 10 × 4</caption>\n",
       "<thead>\n",
       "\t<tr><th scope=col>bean_origin</th><th scope=col>avg_rating</th><th scope=col>n</th><th scope=col>avg_percent</th></tr>\n",
       "\t<tr><th scope=col>&lt;chr&gt;</th><th scope=col>&lt;dbl&gt;</th><th scope=col>&lt;int&gt;</th><th scope=col>&lt;dbl&gt;</th></tr>\n",
       "</thead>\n",
       "<tbody>\n",
       "\t<tr><td>Tobago             </td><td>3.625000</td><td>  2</td><td>65.00000</td></tr>\n",
       "\t<tr><td>Sao Tome &amp; Principe</td><td>3.500000</td><td><span style=white-space:pre-wrap>  2</span></td><td>72.50000</td></tr>\n",
       "\t<tr><td>China              </td><td>3.500000</td><td>  1</td><td>72.00000</td></tr>\n",
       "\t<tr><td>Solomon Islands    </td><td>3.450000</td><td> 10</td><td>71.80000</td></tr>\n",
       "\t<tr><td>Congo              </td><td>3.318182</td><td> 11</td><td>70.45455</td></tr>\n",
       "\t<tr><td>Thailand           </td><td>3.300000</td><td>  5</td><td>70.00000</td></tr>\n",
       "\t<tr><td>Cuba               </td><td>3.291667</td><td> 12</td><td>74.33333</td></tr>\n",
       "\t<tr><td>Vietnam            </td><td>3.287671</td><td> 73</td><td>72.35616</td></tr>\n",
       "\t<tr><td>Papua New Guinea   </td><td>3.280000</td><td> 50</td><td>70.68000</td></tr>\n",
       "\t<tr><td>Madagascar         </td><td>3.266949</td><td>177</td><td>71.23729</td></tr>\n",
       "</tbody>\n",
       "</table>\n"
      ],
      "text/latex": [
       "A tibble: 10 × 4\n",
       "\\begin{tabular}{llll}\n",
       " bean\\_origin & avg\\_rating & n & avg\\_percent\\\\\n",
       " <chr> & <dbl> & <int> & <dbl>\\\\\n",
       "\\hline\n",
       "\t Tobago              & 3.625000 &   2 & 65.00000\\\\\n",
       "\t Sao Tome \\& Principe & 3.500000 &   2 & 72.50000\\\\\n",
       "\t China               & 3.500000 &   1 & 72.00000\\\\\n",
       "\t Solomon Islands     & 3.450000 &  10 & 71.80000\\\\\n",
       "\t Congo               & 3.318182 &  11 & 70.45455\\\\\n",
       "\t Thailand            & 3.300000 &   5 & 70.00000\\\\\n",
       "\t Cuba                & 3.291667 &  12 & 74.33333\\\\\n",
       "\t Vietnam             & 3.287671 &  73 & 72.35616\\\\\n",
       "\t Papua New Guinea    & 3.280000 &  50 & 70.68000\\\\\n",
       "\t Madagascar          & 3.266949 & 177 & 71.23729\\\\\n",
       "\\end{tabular}\n"
      ],
      "text/markdown": [
       "\n",
       "A tibble: 10 × 4\n",
       "\n",
       "| bean_origin &lt;chr&gt; | avg_rating &lt;dbl&gt; | n &lt;int&gt; | avg_percent &lt;dbl&gt; |\n",
       "|---|---|---|---|\n",
       "| Tobago              | 3.625000 |   2 | 65.00000 |\n",
       "| Sao Tome &amp; Principe | 3.500000 |   2 | 72.50000 |\n",
       "| China               | 3.500000 |   1 | 72.00000 |\n",
       "| Solomon Islands     | 3.450000 |  10 | 71.80000 |\n",
       "| Congo               | 3.318182 |  11 | 70.45455 |\n",
       "| Thailand            | 3.300000 |   5 | 70.00000 |\n",
       "| Cuba                | 3.291667 |  12 | 74.33333 |\n",
       "| Vietnam             | 3.287671 |  73 | 72.35616 |\n",
       "| Papua New Guinea    | 3.280000 |  50 | 70.68000 |\n",
       "| Madagascar          | 3.266949 | 177 | 71.23729 |\n",
       "\n"
      ],
      "text/plain": [
       "   bean_origin         avg_rating n   avg_percent\n",
       "1  Tobago              3.625000     2 65.00000   \n",
       "2  Sao Tome & Principe 3.500000     2 72.50000   \n",
       "3  China               3.500000     1 72.00000   \n",
       "4  Solomon Islands     3.450000    10 71.80000   \n",
       "5  Congo               3.318182    11 70.45455   \n",
       "6  Thailand            3.300000     5 70.00000   \n",
       "7  Cuba                3.291667    12 74.33333   \n",
       "8  Vietnam             3.287671    73 72.35616   \n",
       "9  Papua New Guinea    3.280000    50 70.68000   \n",
       "10 Madagascar          3.266949   177 71.23729   "
      ]
     },
     "metadata": {},
     "output_type": "display_data"
    }
   ],
   "source": [
    "# Number of bars and their average ratings arranged in descending order and grouped by cacao's bean origin\n",
    "bean_in<- cb %>% group_by(bean_origin) %>%  summarize(avg_rating = mean(rating),n = length(bar_name), avg_percent = mean(cocoa_percent)) %>% arrange(desc(n),desc(avg_rating))\n",
    "head(bean_in, n = 10)\n",
    "\n",
    "bean_in1<- cb %>% group_by(bean_origin) %>%  summarize(avg_rating = mean(rating),n = length(bar_name), avg_percent = mean(cocoa_percent)) %>% arrange(desc(avg_rating), desc(n))\n",
    "head(bean_in1, n= 10)"
   ]
  },
  {
   "cell_type": "markdown",
   "id": "1b06c089-c3a6-47fd-aacb-99e7928c0ee5",
   "metadata": {},
   "source": [
    "According to the summary, highly recommended cacao beans have a tiny number of distinct bars analyzed, so their ratings may not be regarded important. Meanwhile, suggested cacao beans have a sufficient number of evaluated bars to back up their ratings, thus it is reasonable to conclude cacao bean origin is an indicator of its quality. This demonstrates that Madagascar produces high-quality cocoa beans."
   ]
  },
  {
   "cell_type": "markdown",
   "id": "c68f6628-9c5f-4288-a1b8-5e5f470d941e",
   "metadata": {},
   "source": [
    "## Relationship between cocoa content and its ratings\n",
    "Here we find out how cocoa content relate to rating. Additionally the average content for bars with ratings above 3.5 are estimated."
   ]
  },
  {
   "cell_type": "code",
   "execution_count": 50,
   "id": "a0c1f08c-08eb-4a30-a154-1affb265cb11",
   "metadata": {},
   "outputs": [
    {
     "data": {
      "text/html": [
       "-0.146689595080347"
      ],
      "text/latex": [
       "-0.146689595080347"
      ],
      "text/markdown": [
       "-0.146689595080347"
      ],
      "text/plain": [
       "[1] -0.1466896"
      ]
     },
     "metadata": {},
     "output_type": "display_data"
    },
    {
     "name": "stderr",
     "output_type": "stream",
     "text": [
      "`geom_smooth()` using formula 'y ~ x'\n",
      "\n"
     ]
    },
    {
     "data": {
      "application/com.datacamp.data-table.v1+json": {
       "is_truncated": false,
       "table": {
        "data": [
         {
          "avg_rating": 70.95,
          "index": "1"
         }
        ],
        "schema": {
         "fields": [
          {
           "name": "index",
           "type": "string"
          },
          {
           "name": "avg_rating",
           "type": "float"
          }
         ],
         "pandas_version": "0.20.0",
         "primaryKey": [
          "index"
         ]
        }
       },
       "total_rows": 1
      },
      "text/html": [
       "<table class=\"dataframe\">\n",
       "<caption>A data.frame: 1 × 1</caption>\n",
       "<thead>\n",
       "\t<tr><th scope=col>avg_rating</th></tr>\n",
       "\t<tr><th scope=col>&lt;dbl&gt;</th></tr>\n",
       "</thead>\n",
       "<tbody>\n",
       "\t<tr><td>70.95</td></tr>\n",
       "</tbody>\n",
       "</table>\n"
      ],
      "text/latex": [
       "A data.frame: 1 × 1\n",
       "\\begin{tabular}{l}\n",
       " avg\\_rating\\\\\n",
       " <dbl>\\\\\n",
       "\\hline\n",
       "\t 70.95\\\\\n",
       "\\end{tabular}\n"
      ],
      "text/markdown": [
       "\n",
       "A data.frame: 1 × 1\n",
       "\n",
       "| avg_rating &lt;dbl&gt; |\n",
       "|---|\n",
       "| 70.95 |\n",
       "\n"
      ],
      "text/plain": [
       "  avg_rating\n",
       "1 70.95     "
      ]
     },
     "metadata": {},
     "output_type": "display_data"
    },
    {
     "data": {
      "image/png": "[encoded data removed]",
      "text/plain": [
       "plot without title"
      ]
     },
     "metadata": {
      "image/png": {
       "height": 420,
       "width": 420
      }
     },
     "output_type": "display_data"
    }
   ],
   "source": [
    "# Correlation between rating and cocoa percentage present in chocolate bar\n",
    "cor(cb$rating, cb$cocoa_percent)\n",
    "\n",
    "# Plot of relationship between rating and cocoa percentage present in chocolate bar\n",
    "ggplot(cb, aes(rating, cocoa_percent)) +\n",
    "  stat_summary(fun = mean, geom = \"point\") + stat_smooth(se = FALSE, method = \"lm\") + labs(title = \"Relationship between Cocoa percentage and Highly recommended bars\") + theme_classic()\n",
    "\n",
    "# Average cocoa content for bars with higher ratings (above 3.5)\n",
    "cb %>% filter(rating > 3.5) %>% summarize(avg_rating = round(mean(cocoa_percent),2))"
   ]
  },
  {
   "cell_type": "markdown",
   "id": "e9c4ab60-8a6b-4540-af55-6f837fb75bd1",
   "metadata": {},
   "source": [
    "There is a negative relationship between cocoa content and rating. Meaning as cocoa percentage used in a chocolate bar is increased the lower their ratings."
   ]
  },
  {
   "cell_type": "markdown",
   "id": "bff15749-0e71-47e6-bb0d-b62a4daaca46",
   "metadata": {},
   "source": [
    "## Ratings of Lecithin and Non-Lecithin consumers\n",
    "Research indicated that some consumers want to avoid bars with lecithin. Here, we find out how true this claim is by comparing the mean ratings of bars with and without lecithin."
   ]
  },
  {
   "cell_type": "code",
   "execution_count": 62,
   "id": "017d324e-57fc-43ca-be53-5c9b9a6c9987",
   "metadata": {},
   "outputs": [
    {
     "data": {
      "application/com.datacamp.data-table.v1+json": {
       "is_truncated": false,
       "table": {
        "data": [
         {
          "avg": 3.2114,
          "index": "1",
          "lec": false
         },
         {
          "avg": 3.1368,
          "index": "2",
          "lec": true
         }
        ],
        "schema": {
         "fields": [
          {
           "name": "index",
           "type": "string"
          },
          {
           "name": "lec",
           "type": "boolean"
          },
          {
           "name": "avg",
           "type": "float"
          }
         ],
         "pandas_version": "0.20.0",
         "primaryKey": [
          "index"
         ]
        }
       },
       "total_rows": 2
      },
      "text/html": [
       "<table class=\"dataframe\">\n",
       "<caption>A tibble: 2 × 2</caption>\n",
       "<thead>\n",
       "\t<tr><th scope=col>lec</th><th scope=col>avg</th></tr>\n",
       "\t<tr><th scope=col>&lt;lgl&gt;</th><th scope=col>&lt;dbl&gt;</th></tr>\n",
       "</thead>\n",
       "<tbody>\n",
       "\t<tr><td>FALSE</td><td>3.211386</td></tr>\n",
       "\t<tr><td> TRUE</td><td>3.136765</td></tr>\n",
       "</tbody>\n",
       "</table>\n"
      ],
      "text/latex": [
       "A tibble: 2 × 2\n",
       "\\begin{tabular}{ll}\n",
       " lec & avg\\\\\n",
       " <lgl> & <dbl>\\\\\n",
       "\\hline\n",
       "\t FALSE & 3.211386\\\\\n",
       "\t  TRUE & 3.136765\\\\\n",
       "\\end{tabular}\n"
      ],
      "text/markdown": [
       "\n",
       "A tibble: 2 × 2\n",
       "\n",
       "| lec &lt;lgl&gt; | avg &lt;dbl&gt; |\n",
       "|---|---|\n",
       "| FALSE | 3.211386 |\n",
       "|  TRUE | 3.136765 |\n",
       "\n"
      ],
      "text/plain": [
       "  lec   avg     \n",
       "1 FALSE 3.211386\n",
       "2  TRUE 3.136765"
      ]
     },
     "metadata": {},
     "output_type": "display_data"
    }
   ],
   "source": [
    "# Indicating chocolate bars with lecithin as an ingredient\n",
    "cb <- cb %>% mutate(lec = ifelse(str_detect(ingredients, \"L\")== TRUE, TRUE, FALSE))\n",
    "\n",
    "# Summary of bars with and without lecithin\n",
    "cb %>% group_by(lec) %>% summarise(avg = mean(rating))\n",
    "\n",
    "\n"
   ]
  },
  {
   "cell_type": "markdown",
   "id": "77b49d0e-4b84-4862-b786-0a77930df722",
   "metadata": {},
   "source": [
    "This indicated that chocolate bars without lecithin as an ingredient had a slightly greater average rating when compared with chocolate bars with it. There is the need to test whether the difference is significant enough to support claim that the average rating of chocolate bars without lecithin is greater than chocolate bars with lecithin."
   ]
  },
  {
   "cell_type": "code",
   "execution_count": 63,
   "id": "533d9b88-d7dc-4c72-8d03-5fc378ba06fb",
   "metadata": {},
   "outputs": [
    {
     "data": {
      "text/plain": [
       "\n",
       "\tWelch Two Sample t-test\n",
       "\n",
       "data:  rating by lec\n",
       "t = 3.1127, df = 714.03, p-value = 0.001928\n",
       "alternative hypothesis: true difference in means between group FALSE and group TRUE is not equal to 0\n",
       "95 percent confidence interval:\n",
       " 0.02755432 0.12168854\n",
       "sample estimates:\n",
       "mean in group FALSE  mean in group TRUE \n",
       "           3.211386            3.136765 \n"
      ]
     },
     "metadata": {},
     "output_type": "display_data"
    }
   ],
   "source": [
    "# Testing the significant difference between bars with and without lecithin\n",
    "t.test(rating ~lec, data = cb)"
   ]
  },
  {
   "cell_type": "markdown",
   "id": "bb0dee5c-7956-4b7a-aaa2-9a67ff926747",
   "metadata": {},
   "source": [
    "The p-value  after the test is lesser than the significance level(0.05), therefore average rating of chocolate bars without lecithin is greater than chocolate bars with lecithin."
   ]
  },
  {
   "cell_type": "markdown",
   "id": "ee67707a-759e-40c7-86f7-0fd7c9f4ec8b",
   "metadata": {},
   "source": [
    "## Summary\n",
    "- The aggregation of average ratings indicated that Tobago, China and Sao Tome & Principe produce the top three most highly rated cacao beans but had no substantial evidence to back since they have smaller sample sizes\n",
    "\n",
    "\n",
    "- Venezuela, Peru and the  Dominican Republic were the countries with the largest number of chocolate bars that used their cacao beans with values 253, 244 and 226 respectively. Meaning, most companies usually use cacao beans from these countries.\n",
    "\n",
    "\n",
    "- There is a negative relationship between cocoa content and rating. This means as cocoa percentage used in a chocolate bar is increased the lower their average ratings. Additionally, on average, cocoa percent for bars with higher ratings above 3.5 is 71%.\n",
    "\n",
    "\n",
    "- With a 95% confidence interval, chocolate bars without lecithin as an ingredient has a greater average rating when compared with chocolate bars with it. \n",
    "\n",
    "\n",
    "- The overall best and highly rated cacao bean come from Madagascar with an average rating of 3.27. This asserted the fact that cacao bean's origin is an indicator of quality."
   ]
  }
 ],
 "metadata": {
  "editor": "DataCamp Workspace",
  "kernelspec": {
   "display_name": "R",
   "language": "R",
   "name": "ir"
  },
  "language_info": {
   "codemirror_mode": "r",
   "file_extension": ".r",
   "mimetype": "text/x-r-source",
   "name": "R",
   "pygments_lexer": "r",
   "version": "4.1.2"
  }
 },
 "nbformat": 4,
 "nbformat_minor": 5
}
